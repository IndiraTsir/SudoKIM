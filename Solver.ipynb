{
 "cells": [
  {
   "cell_type": "code",
   "execution_count": 5,
   "id": "176060a9",
   "metadata": {},
   "outputs": [
    {
     "name": "stdout",
     "output_type": "stream",
     "text": [
      "[[1. 2. 3. 4. 5. 6. 7. 8. 9.]\n",
      " [4. 5. 6. 7. 8. 9. 1. 2. 3.]\n",
      " [7. 8. 9. 1. 2. 3. 4. 5. 6.]\n",
      " [2. 1. 4. 3. 6. 5. 8. 9. 7.]\n",
      " [3. 6. 5. 8. 9. 7. 2. 1. 4.]\n",
      " [8. 9. 7. 2. 1. 4. 3. 6. 5.]\n",
      " [5. 3. 1. 6. 4. 2. 9. 7. 8.]\n",
      " [6. 4. 2. 9. 7. 8. 5. 3. 1.]\n",
      " [9. 7. 8. 5. 3. 1. 6. 4. 2.]]\n",
      "Time:  0.06365513801574707\n"
     ]
    }
   ],
   "source": [
    "import numpy as numpy\n",
    "import random\n",
    "\n",
    "from Sudoku import Sudoku\n",
    "\n",
    "\n",
    "sudo = Sudoku()\n",
    "\n",
    "\n",
    "# sudo.grid = numpy.array([[2, 5, 6, 8, 3, 0, 9, 0, 1],\n",
    "#                          [0, 1, 0, 0, 0, 4, 0, 0, 0],\n",
    "#                          [4, 0, 7, 0, 0, 0, 2, 0, 8],\n",
    "#                          [0, 0, 5, 2, 0, 0, 0, 0, 0],\n",
    "#                          [0, 0, 0, 0, 9, 8, 1, 0, 0],\n",
    "#                          [0, 4, 0, 0, 0, 3, 0, 0, 0],\n",
    "#                          [0, 0, 0, 3, 6, 0, 0, 7, 2],\n",
    "#                          [0, 7, 0, 0, 0, 0, 0, 0, 3],\n",
    "#                          [9, 0, 3, 0, 0, 0, 6, 0, 4]])\n",
    "\n",
    "\n",
    "\n",
    "# sudo.grid = numpy.array = [\n",
    "#         [4, 0, 0, 0, 1, 0, 0, 3, 0],\n",
    "#         [0, 2, 0, 7, 0, 0, 0, 0, 0],\n",
    "#         [0, 0, 0, 0, 0, 0, 0, 0, 0],\n",
    "#         [5, 0, 8, 0, 3, 0, 0, 0, 0],\n",
    "#         [0, 0, 0, 0, 0, 0, 2, 0, 9],\n",
    "#         [0, 0, 0, 0, 8, 0, 7, 0, 0],\n",
    "#         [3, 0, 0, 0, 0, 0, 0, 1, 0],\n",
    "#         [0, 0, 0, 2, 0, 0, 6, 0, 0],\n",
    "#         [0, 0, 0, 6, 0, 0, 0, 0, 0]\n",
    "#     ]\n",
    "\n",
    "# sudo.grid = numpy.array([\n",
    "#     [5, 0, 0, 0, 7, 0, 0, 0, 0],\n",
    "#     [6, 0, 0, 1, 0, 0, 0, 0, 0],\n",
    "#     [0, 9, 0, 0, 0, 0, 0, 6, 0],\n",
    "#     [8, 0, 0, 0, 6, 0, 0, 0, 3],\n",
    "#     [0, 0, 0, 8, 0, 0, 0, 0, 1],\n",
    "#     [7, 0, 0, 0, 2, 0, 0, 0, 0],\n",
    "#     [0, 0, 0, 0, 0, 0, 2, 8, 0],\n",
    "#     [0, 0, 0, 4, 0, 9, 0, 0, 5],\n",
    "#     [0, 0, 0, 0, 8, 0, 0, 0, 9]\n",
    "# ])\n",
    "\n",
    "\n",
    "\n",
    "sudo.grid =  numpy.zeros(shape=(9,9)) ## tu peux donner autres grilles\n",
    "\n",
    "import time\n",
    "start_time = time.time()\n",
    "# sudo.solve()\n",
    "sudo.solver()\n",
    "print(sudo.grid)\n",
    "end_time = time.time()\n",
    "total_time = end_time - start_time\n",
    "print(\"Time: \", total_time)"
   ]
  },
  {
   "cell_type": "code",
   "execution_count": 7,
   "id": "0dd0951a",
   "metadata": {},
   "outputs": [],
   "source": [
    "def creator(self,difficulty):\n",
    "        if difficulty == 1 or difficulty  == 2 or difficulty  == 3 :\n",
    "            self.grid_1line()\n",
    "            self.solver()\n",
    "            for i in range(0,40 + difficulty *6 ):\n",
    "                self.grid[random.randint(0,8)][random.randint(0,8)]=0\n",
    "            return\n",
    "        else:\n",
    "            print ('Veuillez rentrer un niveau de difficulté : facile , moyen ou difficile')"
   ]
  },
  {
   "cell_type": "code",
   "execution_count": null,
   "id": "dd5fef10",
   "metadata": {},
   "outputs": [],
   "source": []
  }
 ],
 "metadata": {
  "kernelspec": {
   "display_name": "Python 3 (ipykernel)",
   "language": "python",
   "name": "python3"
  },
  "language_info": {
   "codemirror_mode": {
    "name": "ipython",
    "version": 3
   },
   "file_extension": ".py",
   "mimetype": "text/x-python",
   "name": "python",
   "nbconvert_exporter": "python",
   "pygments_lexer": "ipython3",
   "version": "3.8.12"
  },
  "toc": {
   "base_numbering": 1,
   "nav_menu": {},
   "number_sections": true,
   "sideBar": true,
   "skip_h1_title": false,
   "title_cell": "Table of Contents",
   "title_sidebar": "Contents",
   "toc_cell": false,
   "toc_position": {},
   "toc_section_display": true,
   "toc_window_display": false
  }
 },
 "nbformat": 4,
 "nbformat_minor": 5
}
